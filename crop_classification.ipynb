{
 "cells": [
  {
   "cell_type": "code",
   "execution_count": null,
   "metadata": {},
   "outputs": [],
   "source": [
    "import ee\n",
    "import geemap.foliumap as geemap\n",
    "\n",
    "# ee.Authenticate()\n",
    "ee.Initialize()"
   ]
  },
  {
   "cell_type": "code",
   "execution_count": null,
   "metadata": {},
   "outputs": [],
   "source": [
    "def get_landsat_data(start_date, end_date, geometry):\n",
    "    landsat_data = ee.ImageCollection('LANDSAT/LC08/C02/T1_L2').select('SR_B[1-7]').filterDate(start_date, end_date).filterBounds(geometry)\n",
    "    return landsat_data\n",
    "\n",
    "fresno = ee.Geometry.Point([-120.0, 36.0])\n",
    "\n",
    "landsat_may = get_landsat_data('2019-05-01', '2019-06-01', fresno).first()\n",
    "landsat_jun = get_landsat_data('2019-06-01', '2019-07-01', fresno).first()\n",
    "landsat_jul = get_landsat_data('2019-07-01', '2019-08-01', fresno).first()\n",
    "landsat_aug = get_landsat_data('2019-08-01', '2019-09-01', fresno).first()\n",
    "landsat_sep = get_landsat_data('2019-09-01', '2019-10-01', fresno).first()\n",
    "landsat_oct = get_landsat_data('2019-10-01', '2019-11-01', fresno).first()"
   ]
  },
  {
   "cell_type": "code",
   "execution_count": null,
   "metadata": {},
   "outputs": [],
   "source": [
    "vis_params = {'min': 0, 'max': 30000, 'bands': ['SR_B5', 'SR_B4', 'SR_B3']}\n",
    "modis_vis = {'min': 0.0, 'max': 100.0, 'palette': ['e1e4b4', '999d60', '2ec409', '0a4b06']}\n",
    "\n",
    "m = geemap.Map(center=(36, -120), zoom=8)\n",
    "m.addLayer(landsat_may, vis_params, 'May')\n",
    "m.addLayer(landsat_jun, vis_params, 'June')\n",
    "m.addLayer(landsat_jul, vis_params, 'July')\n",
    "m.addLayer(landsat_aug, vis_params, 'August')\n",
    "m.addLayer(landsat_sep, vis_params, 'September')\n",
    "m.addLayer(landsat_oct, vis_params, 'October')\n",
    "# m.addLayer(cdl.eq(61), {}, 'CDL')\n",
    "m.addLayerControl()\n",
    "m"
   ]
  },
  {
   "cell_type": "code",
   "execution_count": null,
   "metadata": {
    "scrolled": true
   },
   "outputs": [],
   "source": [
    "cdl_orig = ee.ImageCollection('USDA/NASS/CDL').filterDate('2019-01-01', '2019-12-31').select('cropland').first().clip(landsat_sep.geometry())\n",
    "cultivated = ee.ImageCollection('USDA/NASS/CDL').filterDate('2019-01-01', '2019-12-31').select('cultivated').first().clip(landsat_sep.geometry())\n",
    "cdl_cultivated = cdl_orig.mask(cultivated.eq(2))\n",
    "cdl = cdl_cultivated.reproject(crs=landsat_sep.projection(), scale=30)"
   ]
  },
  {
   "cell_type": "code",
   "execution_count": null,
   "metadata": {},
   "outputs": [],
   "source": [
    "area = ee.Image.pixelArea().addBands(cdl)\n",
    " \n",
    "areas = area.reduceRegion(reducer=ee.Reducer.sum().group(groupField=1, groupName='class'), \n",
    "                          geometry=cdl.geometry(), scale=30, maxPixels=1e10)\n",
    "\n",
    "class_areas = ee.List(areas.get('groups'))\n",
    "\n",
    "def get_area(item):\n",
    "    area_dict = ee.Dictionary(item)\n",
    "    class_number = ee.Number(area_dict.get('class')).format()\n",
    "    area = ee.Number(area_dict.get('sum')).divide(1e6).round()\n",
    "    return ee.List([class_number, area])\n",
    "\n",
    "class_area_lists = class_areas.map(get_area)\n",
    " \n",
    "result = ee.Dictionary(class_area_lists.flatten())\n",
    "sorted_keys = result.keys().sort(result.values())\n",
    "\n",
    "n_classes = 6\n",
    "class_keys = sorted_keys.getInfo()[-n_classes:]\n",
    "class_keys\n",
    "\n",
    "# tot = 0\n",
    "# for each in sorted_keys.getInfo():\n",
    "#     tot = tot + result.getInfo()[each]\n",
    "#     print(each, result.getInfo()[each])\n",
    "# print(tot)"
   ]
  },
  {
   "cell_type": "code",
   "execution_count": null,
   "metadata": {},
   "outputs": [],
   "source": [
    "main_crops = cdl.expression(\"b('cropland') == 75 || b('cropland') == 69 || b('cropland') == 204 || b('cropland') == 2 || b('cropland') == 36\")\n",
    "cdl = cdl.mask(main_crops)"
   ]
  },
  {
   "cell_type": "code",
   "execution_count": null,
   "metadata": {},
   "outputs": [],
   "source": [
    "def get_ndvi(image):\n",
    "    ndvi = image.normalizedDifference(['SR_B5', 'SR_B4']).rename('NDVI')  #NIR, R\n",
    "    return ndvi"
   ]
  },
  {
   "cell_type": "code",
   "execution_count": null,
   "metadata": {},
   "outputs": [],
   "source": [
    "def get_lai(start_date, end_date):\n",
    "    lai = ee.ImageCollection('MODIS/061/MCD15A3H').filterDate(start_date, end_date).select('Lai').first().clip(landsat_sep.geometry())\n",
    "    lai = lai.mask(main_crops)\n",
    "    lai = lai.resample('bicubic').reproject(crs=landsat_sep.projection(), scale=30)\n",
    "    return lai"
   ]
  },
  {
   "cell_type": "code",
   "execution_count": null,
   "metadata": {},
   "outputs": [],
   "source": [
    "def get_final_image(image, bands):\n",
    "    data = image.addBands(bands)\n",
    "    return data"
   ]
  },
  {
   "cell_type": "code",
   "execution_count": null,
   "metadata": {},
   "outputs": [],
   "source": [
    "def get_training_data(image, start_date, end_date):\n",
    "    lai = get_lai(start_date, end_date)\n",
    "    landsat_image = image.mask(main_crops)\n",
    "    ndvi = get_ndvi(landsat_image)\n",
    "    bands = [ndvi, lai]\n",
    "    data = get_final_image(landsat_image, bands)\n",
    "    return data"
   ]
  },
  {
   "cell_type": "code",
   "execution_count": null,
   "metadata": {},
   "outputs": [],
   "source": [
    "data_may = get_training_data(landsat_may, '2019-05-01', '2019-06-01')\n",
    "data_jul = get_training_data(landsat_jul, '2019-07-01', '2019-08-01')\n",
    "data_aug = get_training_data(landsat_aug, '2019-08-01', '2019-09-01')\n",
    "data_sep = get_training_data(landsat_sep, '2019-09-01', '2019-10-01')\n",
    "data_oct = get_training_data(landsat_oct, '2019-10-01', '2019-11-01')"
   ]
  },
  {
   "cell_type": "code",
   "execution_count": null,
   "metadata": {},
   "outputs": [],
   "source": [
    "points = cdl.stratifiedSample(region=cdl.geometry(), scale=30, numPoints=1500, seed=0, geometries=True)\n",
    "\n",
    "label = 'cropland'\n",
    "bands = data_sep.bandNames().getInfo()\n",
    "\n",
    "\n",
    "def classification(image):\n",
    "    sample = image.select(bands).sampleRegions(collection=points, properties=[label], scale=30)\n",
    "    sample = sample.randomColumn()\n",
    "    split = 0.70\n",
    "\n",
    "    training = sample.filter(ee.Filter.lt('random', split))\n",
    "    validation = sample.filter(ee.Filter.gte('random', split))\n",
    "    \n",
    "    return training, validation\n",
    "\n",
    "t_may, v_may = classification(data_may)\n",
    "t_jul, v_jul = classification(data_jul)\n",
    "t_aug, v_aug = classification(data_aug)\n",
    "t_sep, v_sep = classification(data_sep)\n",
    "t_oct, v_oct = classification(data_oct)\n",
    "\n",
    "training = t_may.merge(t_jul).merge(t_aug).merge(t_sep).merge(t_oct)\n",
    "validation = v_may.merge(v_jul).merge(v_aug).merge(v_sep).merge(v_oct)"
   ]
  },
  {
   "cell_type": "code",
   "execution_count": null,
   "metadata": {},
   "outputs": [],
   "source": [
    "classifier = ee.Classifier.smileRandomForest(200).train(training, label, bands)\n",
    "\n",
    "train_accuracy = classifier.confusionMatrix()\n",
    "train_accuracy.accuracy().getInfo()"
   ]
  },
  {
   "cell_type": "code",
   "execution_count": null,
   "metadata": {},
   "outputs": [],
   "source": [
    "validated = validation.classify(classifier)\n",
    "\n",
    "test_accuracy = validated.errorMatrix('cropland', 'classification')\n",
    "test_accuracy.accuracy().getInfo()"
   ]
  }
 ],
 "metadata": {
  "kernelspec": {
   "display_name": "Python 3 (ipykernel)",
   "language": "python",
   "name": "python3"
  },
  "language_info": {
   "codemirror_mode": {
    "name": "ipython",
    "version": 3
   },
   "file_extension": ".py",
   "mimetype": "text/x-python",
   "name": "python",
   "nbconvert_exporter": "python",
   "pygments_lexer": "ipython3",
   "version": "3.8.13"
  },
  "vscode": {
   "interpreter": {
    "hash": "7dc39d0379c1587668d3f5a030d6ca30fa25ac45af4e85422bdb1eba73e82141"
   }
  }
 },
 "nbformat": 4,
 "nbformat_minor": 2
}

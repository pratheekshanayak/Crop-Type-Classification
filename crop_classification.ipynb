{
 "cells": [
  {
   "cell_type": "markdown",
   "metadata": {},
   "source": [
    "Imports"
   ]
  },
  {
   "cell_type": "code",
   "execution_count": 1,
   "metadata": {},
   "outputs": [],
   "source": [
    "import ee\n",
    "import geemap.foliumap as geemap\n",
    "\n",
    "# ee.Authenticate()\n",
    "ee.Initialize()"
   ]
  },
  {
   "cell_type": "markdown",
   "metadata": {},
   "source": [
    "Landsat 8 multitemporal images from May 2019 to October 2019"
   ]
  },
  {
   "cell_type": "code",
   "execution_count": 2,
   "metadata": {},
   "outputs": [],
   "source": [
    "def get_landsat_data(start_date, end_date, geometry):\n",
    "    landsat_data = ee.ImageCollection('LANDSAT/LC08/C02/T1_L2').select('SR_B[1-7]').filterDate(start_date, end_date).filterBounds(geometry)\n",
    "    return landsat_data\n",
    "\n",
    "fresno = ee.Geometry.Point([-120.0, 36.0])\n",
    "\n",
    "landsat_may = get_landsat_data('2019-05-01', '2019-06-01', fresno).first()\n",
    "landsat_jun = get_landsat_data('2019-06-01', '2019-07-01', fresno).first()\n",
    "landsat_jul = get_landsat_data('2019-07-01', '2019-08-01', fresno).first()\n",
    "landsat_aug = get_landsat_data('2019-08-01', '2019-09-01', fresno).first()\n",
    "landsat_sep = get_landsat_data('2019-09-01', '2019-10-01', fresno).first()\n",
    "landsat_oct = get_landsat_data('2019-10-01', '2019-11-01', fresno).first()"
   ]
  },
  {
   "cell_type": "markdown",
   "metadata": {},
   "source": [
    "June has high cloud cover"
   ]
  },
  {
   "cell_type": "code",
   "execution_count": 3,
   "metadata": {},
   "outputs": [
    {
     "data": {
      "text/html": [
       "<div style=\"width:100%;\"><div style=\"position:relative;width:100%;height:0;padding-bottom:60%;\"><span style=\"color:#565656\">Make this Notebook Trusted to load map: File -> Trust Notebook</span><iframe srcdoc=\"&lt;!DOCTYPE html&gt;\n",
       "&lt;head&gt;    \n",
       "    &lt;meta http-equiv=&quot;content-type&quot; content=&quot;text/html; charset=UTF-8&quot; /&gt;\n",
       "    \n",
       "        &lt;script&gt;\n",
       "            L_NO_TOUCH = false;\n",
       "            L_DISABLE_3D = false;\n",
       "        &lt;/script&gt;\n",
       "    \n",
       "    &lt;style&gt;html, body {width: 100%;height: 100%;margin: 0;padding: 0;}&lt;/style&gt;\n",
       "    &lt;style&gt;#map {position:absolute;top:0;bottom:0;right:0;left:0;}&lt;/style&gt;\n",
       "    &lt;script src=&quot;https://cdn.jsdelivr.net/npm/leaflet@1.6.0/dist/leaflet.js&quot;&gt;&lt;/script&gt;\n",
       "    &lt;script src=&quot;https://code.jquery.com/jquery-1.12.4.min.js&quot;&gt;&lt;/script&gt;\n",
       "    &lt;script src=&quot;https://maxcdn.bootstrapcdn.com/bootstrap/3.2.0/js/bootstrap.min.js&quot;&gt;&lt;/script&gt;\n",
       "    &lt;script src=&quot;https://cdnjs.cloudflare.com/ajax/libs/Leaflet.awesome-markers/2.0.2/leaflet.awesome-markers.js&quot;&gt;&lt;/script&gt;\n",
       "    &lt;link rel=&quot;stylesheet&quot; href=&quot;https://cdn.jsdelivr.net/npm/leaflet@1.6.0/dist/leaflet.css&quot;/&gt;\n",
       "    &lt;link rel=&quot;stylesheet&quot; href=&quot;https://maxcdn.bootstrapcdn.com/bootstrap/3.2.0/css/bootstrap.min.css&quot;/&gt;\n",
       "    &lt;link rel=&quot;stylesheet&quot; href=&quot;https://maxcdn.bootstrapcdn.com/bootstrap/3.2.0/css/bootstrap-theme.min.css&quot;/&gt;\n",
       "    &lt;link rel=&quot;stylesheet&quot; href=&quot;https://maxcdn.bootstrapcdn.com/font-awesome/4.6.3/css/font-awesome.min.css&quot;/&gt;\n",
       "    &lt;link rel=&quot;stylesheet&quot; href=&quot;https://cdnjs.cloudflare.com/ajax/libs/Leaflet.awesome-markers/2.0.2/leaflet.awesome-markers.css&quot;/&gt;\n",
       "    &lt;link rel=&quot;stylesheet&quot; href=&quot;https://cdn.jsdelivr.net/gh/python-visualization/folium/folium/templates/leaflet.awesome.rotate.min.css&quot;/&gt;\n",
       "    \n",
       "            &lt;meta name=&quot;viewport&quot; content=&quot;width=device-width,\n",
       "                initial-scale=1.0, maximum-scale=1.0, user-scalable=no&quot; /&gt;\n",
       "            &lt;style&gt;\n",
       "                #map_bcce88f9117bf50239fea65e10692846 {\n",
       "                    position: relative;\n",
       "                    width: 100.0%;\n",
       "                    height: 100.0%;\n",
       "                    left: 0.0%;\n",
       "                    top: 0.0%;\n",
       "                }\n",
       "            &lt;/style&gt;\n",
       "        \n",
       "    &lt;script src=&quot;https://cdnjs.cloudflare.com/ajax/libs/leaflet.fullscreen/1.4.2/Control.FullScreen.min.js&quot;&gt;&lt;/script&gt;\n",
       "    &lt;link rel=&quot;stylesheet&quot; href=&quot;https://cdnjs.cloudflare.com/ajax/libs/leaflet.fullscreen/1.4.2/Control.FullScreen.min.css&quot;/&gt;\n",
       "    &lt;script src=&quot;https://cdnjs.cloudflare.com/ajax/libs/leaflet.draw/1.0.2/leaflet.draw.js&quot;&gt;&lt;/script&gt;\n",
       "    &lt;link rel=&quot;stylesheet&quot; href=&quot;https://cdnjs.cloudflare.com/ajax/libs/leaflet.draw/1.0.2/leaflet.draw.css&quot;/&gt;\n",
       "    &lt;script src=&quot;https://unpkg.com/leaflet-control-geocoder/dist/Control.Geocoder.js&quot;&gt;&lt;/script&gt;\n",
       "    &lt;link rel=&quot;stylesheet&quot; href=&quot;https://unpkg.com/leaflet-control-geocoder/dist/Control.Geocoder.css&quot;/&gt;\n",
       "&lt;/head&gt;\n",
       "&lt;body&gt;    \n",
       "    \n",
       "            &lt;div class=&quot;folium-map&quot; id=&quot;map_bcce88f9117bf50239fea65e10692846&quot; &gt;&lt;/div&gt;\n",
       "        \n",
       "&lt;/body&gt;\n",
       "&lt;script&gt;    \n",
       "    \n",
       "            var map_bcce88f9117bf50239fea65e10692846 = L.map(\n",
       "                &quot;map_bcce88f9117bf50239fea65e10692846&quot;,\n",
       "                {\n",
       "                    center: [36.0, -120.0],\n",
       "                    crs: L.CRS.EPSG3857,\n",
       "                    zoom: 8,\n",
       "                    zoomControl: true,\n",
       "                    preferCanvas: false,\n",
       "                    eeInitialize: true,\n",
       "                    addGoogleMap: true,\n",
       "                    pluginLatlngpopup: false,\n",
       "                    pluginFullscreen: true,\n",
       "                    pluginDraw: true,\n",
       "                    DrawExport: false,\n",
       "                    pluginMinimap: false,\n",
       "                    pluginLayercontrol: false,\n",
       "                    locateControl: false,\n",
       "                    searchControl: true,\n",
       "                }\n",
       "            );\n",
       "\n",
       "            \n",
       "\n",
       "        \n",
       "    \n",
       "            var tile_layer_233dd98389246f96ec5b0c7a285c9561 = L.tileLayer(\n",
       "                &quot;https://{s}.tile.openstreetmap.org/{z}/{x}/{y}.png&quot;,\n",
       "                {&quot;attribution&quot;: &quot;Data by \\u0026copy; \\u003ca href=\\&quot;http://openstreetmap.org\\&quot;\\u003eOpenStreetMap\\u003c/a\\u003e, under \\u003ca href=\\&quot;http://www.openstreetmap.org/copyright\\&quot;\\u003eODbL\\u003c/a\\u003e.&quot;, &quot;detectRetina&quot;: false, &quot;maxNativeZoom&quot;: 24, &quot;maxZoom&quot;: 24, &quot;minZoom&quot;: 0, &quot;noWrap&quot;: false, &quot;opacity&quot;: 1, &quot;subdomains&quot;: &quot;abc&quot;, &quot;tms&quot;: false}\n",
       "            ).addTo(map_bcce88f9117bf50239fea65e10692846);\n",
       "        \n",
       "    \n",
       "            var tile_layer_c98cc36b8b919f03c6ab3961d71ff0e5 = L.tileLayer(\n",
       "                &quot;https://mt1.google.com/vt/lyrs=m\\u0026x={x}\\u0026y={y}\\u0026z={z}&quot;,\n",
       "                {&quot;attribution&quot;: &quot;Google&quot;, &quot;detectRetina&quot;: false, &quot;maxNativeZoom&quot;: 22, &quot;maxZoom&quot;: 22, &quot;minZoom&quot;: 0, &quot;noWrap&quot;: false, &quot;opacity&quot;: 1, &quot;subdomains&quot;: &quot;abc&quot;, &quot;tms&quot;: false}\n",
       "            ).addTo(map_bcce88f9117bf50239fea65e10692846);\n",
       "        \n",
       "    \n",
       "            L.control.fullscreen(\n",
       "                {&quot;forceSeparateButton&quot;: false, &quot;position&quot;: &quot;topleft&quot;, &quot;title&quot;: &quot;Full Screen&quot;, &quot;titleCancel&quot;: &quot;Exit Full Screen&quot;}\n",
       "            ).addTo(map_bcce88f9117bf50239fea65e10692846);\n",
       "        \n",
       "    \n",
       "            var options = {\n",
       "              position: &quot;topleft&quot;,\n",
       "              draw: {},\n",
       "              edit: {},\n",
       "            }\n",
       "            // FeatureGroup is to store editable layers.\n",
       "            var drawnItems = new L.featureGroup().addTo(\n",
       "                map_bcce88f9117bf50239fea65e10692846\n",
       "            );\n",
       "            options.edit.featureGroup = drawnItems;\n",
       "            var draw_control_5c98609976893342a8ff17a7783175c5 = new L.Control.Draw(\n",
       "                options\n",
       "            ).addTo( map_bcce88f9117bf50239fea65e10692846 );\n",
       "            map_bcce88f9117bf50239fea65e10692846.on(L.Draw.Event.CREATED, function(e) {\n",
       "                var layer = e.layer,\n",
       "                    type = e.layerType;\n",
       "                var coords = JSON.stringify(layer.toGeoJSON());\n",
       "                layer.on(&#x27;click&#x27;, function() {\n",
       "                    alert(coords);\n",
       "                    console.log(coords);\n",
       "                });\n",
       "                drawnItems.addLayer(layer);\n",
       "             });\n",
       "            map_bcce88f9117bf50239fea65e10692846.on(&#x27;draw:created&#x27;, function(e) {\n",
       "                drawnItems.addLayer(e.layer);\n",
       "            });\n",
       "            \n",
       "        \n",
       "    \n",
       "            L.Control.geocoder(\n",
       "                {&quot;collapsed&quot;: true, &quot;defaultMarkGeocode&quot;: true, &quot;position&quot;: &quot;topleft&quot;}\n",
       "            ).on(&#x27;markgeocode&#x27;, function(e) {\n",
       "                map_bcce88f9117bf50239fea65e10692846.setView(e.geocode.center, 11);\n",
       "            }).addTo(map_bcce88f9117bf50239fea65e10692846);\n",
       "\n",
       "        \n",
       "    \n",
       "            map_bcce88f9117bf50239fea65e10692846.fitBounds(\n",
       "                [[36, -120], [36, -120]],\n",
       "                {&quot;maxZoom&quot;: 8}\n",
       "            );\n",
       "        \n",
       "    \n",
       "            var tile_layer_af5f72df53f54e6b55d8d82aae021386 = L.tileLayer(\n",
       "                &quot;https://earthengine.googleapis.com/v1alpha/projects/earthengine-legacy/maps/29727e8a631e26555c252bc678d3aa39-41c1e20ec7390d048d24a6fab25f2a5b/tiles/{z}/{x}/{y}&quot;,\n",
       "                {&quot;attribution&quot;: &quot;Google Earth Engine&quot;, &quot;detectRetina&quot;: false, &quot;maxNativeZoom&quot;: 24, &quot;maxZoom&quot;: 24, &quot;minZoom&quot;: 0, &quot;noWrap&quot;: false, &quot;opacity&quot;: 1.0, &quot;subdomains&quot;: &quot;abc&quot;, &quot;tms&quot;: false}\n",
       "            ).addTo(map_bcce88f9117bf50239fea65e10692846);\n",
       "        \n",
       "    \n",
       "            var tile_layer_824a3029dcca21fdae12713795d510af = L.tileLayer(\n",
       "                &quot;https://earthengine.googleapis.com/v1alpha/projects/earthengine-legacy/maps/689498beebf1a5ae5667b5d7d6fcc83b-8a0e984b1d83b775e365bdc7958e84de/tiles/{z}/{x}/{y}&quot;,\n",
       "                {&quot;attribution&quot;: &quot;Google Earth Engine&quot;, &quot;detectRetina&quot;: false, &quot;maxNativeZoom&quot;: 24, &quot;maxZoom&quot;: 24, &quot;minZoom&quot;: 0, &quot;noWrap&quot;: false, &quot;opacity&quot;: 1.0, &quot;subdomains&quot;: &quot;abc&quot;, &quot;tms&quot;: false}\n",
       "            ).addTo(map_bcce88f9117bf50239fea65e10692846);\n",
       "        \n",
       "    \n",
       "            var tile_layer_acc17c08e592ff6f1dae16d300127155 = L.tileLayer(\n",
       "                &quot;https://earthengine.googleapis.com/v1alpha/projects/earthengine-legacy/maps/ecb27436cc8aa17ae6f0c8819fe3f9e7-8c87514ab931259b5350db11c986bcf6/tiles/{z}/{x}/{y}&quot;,\n",
       "                {&quot;attribution&quot;: &quot;Google Earth Engine&quot;, &quot;detectRetina&quot;: false, &quot;maxNativeZoom&quot;: 24, &quot;maxZoom&quot;: 24, &quot;minZoom&quot;: 0, &quot;noWrap&quot;: false, &quot;opacity&quot;: 1.0, &quot;subdomains&quot;: &quot;abc&quot;, &quot;tms&quot;: false}\n",
       "            ).addTo(map_bcce88f9117bf50239fea65e10692846);\n",
       "        \n",
       "    \n",
       "            var tile_layer_d5b6fd064b053f7839ebbbed12c40699 = L.tileLayer(\n",
       "                &quot;https://earthengine.googleapis.com/v1alpha/projects/earthengine-legacy/maps/3bc76487db721cadca56947a63007227-fa2a9fd08b97b91a1cd832a295fcd05d/tiles/{z}/{x}/{y}&quot;,\n",
       "                {&quot;attribution&quot;: &quot;Google Earth Engine&quot;, &quot;detectRetina&quot;: false, &quot;maxNativeZoom&quot;: 24, &quot;maxZoom&quot;: 24, &quot;minZoom&quot;: 0, &quot;noWrap&quot;: false, &quot;opacity&quot;: 1.0, &quot;subdomains&quot;: &quot;abc&quot;, &quot;tms&quot;: false}\n",
       "            ).addTo(map_bcce88f9117bf50239fea65e10692846);\n",
       "        \n",
       "    \n",
       "            var tile_layer_e5ba04f8af9ce7103180114e00d5bb1f = L.tileLayer(\n",
       "                &quot;https://earthengine.googleapis.com/v1alpha/projects/earthengine-legacy/maps/2dd2813ccd60543bb3b5d193c45bdb26-4b18ad4ef078ad8bd2bf6328e98a5e19/tiles/{z}/{x}/{y}&quot;,\n",
       "                {&quot;attribution&quot;: &quot;Google Earth Engine&quot;, &quot;detectRetina&quot;: false, &quot;maxNativeZoom&quot;: 24, &quot;maxZoom&quot;: 24, &quot;minZoom&quot;: 0, &quot;noWrap&quot;: false, &quot;opacity&quot;: 1.0, &quot;subdomains&quot;: &quot;abc&quot;, &quot;tms&quot;: false}\n",
       "            ).addTo(map_bcce88f9117bf50239fea65e10692846);\n",
       "        \n",
       "    \n",
       "            var tile_layer_73d6304c92028d11fa23d1905d219ce4 = L.tileLayer(\n",
       "                &quot;https://earthengine.googleapis.com/v1alpha/projects/earthengine-legacy/maps/ba6707a4aca19cf629239f716cde23b5-be98046b6a5e1f29b8b5dd01882f0877/tiles/{z}/{x}/{y}&quot;,\n",
       "                {&quot;attribution&quot;: &quot;Google Earth Engine&quot;, &quot;detectRetina&quot;: false, &quot;maxNativeZoom&quot;: 24, &quot;maxZoom&quot;: 24, &quot;minZoom&quot;: 0, &quot;noWrap&quot;: false, &quot;opacity&quot;: 1.0, &quot;subdomains&quot;: &quot;abc&quot;, &quot;tms&quot;: false}\n",
       "            ).addTo(map_bcce88f9117bf50239fea65e10692846);\n",
       "        \n",
       "    \n",
       "            var layer_control_d8543df7c5c3637a1b3df6b37cfe8c3e = {\n",
       "                base_layers : {\n",
       "                    &quot;openstreetmap&quot; : tile_layer_233dd98389246f96ec5b0c7a285c9561,\n",
       "                },\n",
       "                overlays :  {\n",
       "                    &quot;Google Maps&quot; : tile_layer_c98cc36b8b919f03c6ab3961d71ff0e5,\n",
       "                    &quot;May&quot; : tile_layer_af5f72df53f54e6b55d8d82aae021386,\n",
       "                    &quot;June&quot; : tile_layer_824a3029dcca21fdae12713795d510af,\n",
       "                    &quot;July&quot; : tile_layer_acc17c08e592ff6f1dae16d300127155,\n",
       "                    &quot;August&quot; : tile_layer_d5b6fd064b053f7839ebbbed12c40699,\n",
       "                    &quot;September&quot; : tile_layer_e5ba04f8af9ce7103180114e00d5bb1f,\n",
       "                    &quot;October&quot; : tile_layer_73d6304c92028d11fa23d1905d219ce4,\n",
       "                },\n",
       "            };\n",
       "            L.control.layers(\n",
       "                layer_control_d8543df7c5c3637a1b3df6b37cfe8c3e.base_layers,\n",
       "                layer_control_d8543df7c5c3637a1b3df6b37cfe8c3e.overlays,\n",
       "                {&quot;autoZIndex&quot;: true, &quot;collapsed&quot;: true, &quot;position&quot;: &quot;topright&quot;}\n",
       "            ).addTo(map_bcce88f9117bf50239fea65e10692846);\n",
       "        \n",
       "&lt;/script&gt;\" style=\"position:absolute;width:100%;height:100%;left:0;top:0;border:none !important;\" allowfullscreen webkitallowfullscreen mozallowfullscreen></iframe></div></div>"
      ],
      "text/plain": [
       "<geemap.foliumap.Map at 0x7fa7a96efa00>"
      ]
     },
     "execution_count": 3,
     "metadata": {},
     "output_type": "execute_result"
    }
   ],
   "source": [
    "vis_params = {'min': 0, 'max': 30000, 'bands': ['SR_B5', 'SR_B4', 'SR_B3']}\n",
    "modis_vis = {'min': 0.0, 'max': 100.0, 'palette': ['e1e4b4', '999d60', '2ec409', '0a4b06']}\n",
    "\n",
    "m = geemap.Map(center=(36, -120), zoom=8)\n",
    "m.addLayer(landsat_may, vis_params, 'May')\n",
    "m.addLayer(landsat_jun, vis_params, 'June')\n",
    "m.addLayer(landsat_jul, vis_params, 'July')\n",
    "m.addLayer(landsat_aug, vis_params, 'August')\n",
    "m.addLayer(landsat_sep, vis_params, 'September')\n",
    "m.addLayer(landsat_oct, vis_params, 'October')\n",
    "m.addLayerControl()\n",
    "m"
   ]
  },
  {
   "cell_type": "markdown",
   "metadata": {},
   "source": [
    "Cropland Data Layer (CDL) by NASS, USDA : Since the accuracy of CDL data depends on the crop type and geographical location, only areas containing high accuracy crops are analyzed. Otherwise, the evaluation would be performed against faulty data.\n",
    "\n"
   ]
  },
  {
   "cell_type": "code",
   "execution_count": 4,
   "metadata": {
    "scrolled": true
   },
   "outputs": [],
   "source": [
    "cdl_orig = ee.ImageCollection('USDA/NASS/CDL').filterDate('2019-01-01', '2019-12-31').first().clip(landsat_sep.geometry())\n",
    "cultivated = cdl_orig.select('cultivated')\n",
    "cdl_cultivated = cdl_orig.mask(cultivated.eq(2))\n",
    "confidence = cdl_cultivated.select('confidence')\n",
    "cdl_confident = cdl_cultivated.mask(confidence.gte(95))\n",
    "\n",
    "cdl = cdl_confident.reproject(crs=landsat_sep.projection(), scale=30).select('cropland')"
   ]
  },
  {
   "cell_type": "markdown",
   "metadata": {},
   "source": [
    "Major (Top 5) crops in the area"
   ]
  },
  {
   "cell_type": "code",
   "execution_count": 5,
   "metadata": {},
   "outputs": [
    {
     "data": {
      "text/plain": [
       "['36', '61', '2', '204', '75', '69']"
      ]
     },
     "execution_count": 5,
     "metadata": {},
     "output_type": "execute_result"
    }
   ],
   "source": [
    "area = ee.Image.pixelArea().addBands(cdl)\n",
    " \n",
    "areas = area.reduceRegion(reducer=ee.Reducer.sum().group(groupField=1, groupName='class'), \n",
    "                          geometry=cdl.geometry(), scale=30, maxPixels=1e10)\n",
    "\n",
    "class_areas = ee.List(areas.get('groups'))\n",
    "\n",
    "def get_area(item):\n",
    "    area_dict = ee.Dictionary(item)\n",
    "    class_number = ee.Number(area_dict.get('class')).format()\n",
    "    area = ee.Number(area_dict.get('sum')).divide(1e6).round()\n",
    "    return ee.List([class_number, area])\n",
    "\n",
    "class_area_lists = class_areas.map(get_area)\n",
    " \n",
    "result = ee.Dictionary(class_area_lists.flatten())\n",
    "sorted_keys = result.keys().sort(result.values())\n",
    "\n",
    "n_classes = 6\n",
    "class_keys = sorted_keys.getInfo()[-n_classes:]\n",
    "class_keys\n",
    "\n",
    "# tot = 0\n",
    "# for each in sorted_keys.getInfo():\n",
    "#     tot = tot + result.getInfo()[each]\n",
    "#     print(each, result.getInfo()[each])\n",
    "# print(tot)"
   ]
  },
  {
   "cell_type": "code",
   "execution_count": 6,
   "metadata": {},
   "outputs": [],
   "source": [
    "main_crops = cdl.expression(\"b('cropland') == 69 || b('cropland') == 75 || b('cropland') == 204 || b('cropland') == 2 || b('cropland') == 36\")\n",
    "cdl = cdl.mask(main_crops)"
   ]
  },
  {
   "cell_type": "code",
   "execution_count": 7,
   "metadata": {},
   "outputs": [
    {
     "data": {
      "text/html": [
       "<div style=\"width:100%;\"><div style=\"position:relative;width:100%;height:0;padding-bottom:60%;\"><span style=\"color:#565656\">Make this Notebook Trusted to load map: File -> Trust Notebook</span><iframe srcdoc=\"&lt;!DOCTYPE html&gt;\n",
       "&lt;head&gt;    \n",
       "    &lt;meta http-equiv=&quot;content-type&quot; content=&quot;text/html; charset=UTF-8&quot; /&gt;\n",
       "    \n",
       "        &lt;script&gt;\n",
       "            L_NO_TOUCH = false;\n",
       "            L_DISABLE_3D = false;\n",
       "        &lt;/script&gt;\n",
       "    \n",
       "    &lt;style&gt;html, body {width: 100%;height: 100%;margin: 0;padding: 0;}&lt;/style&gt;\n",
       "    &lt;style&gt;#map {position:absolute;top:0;bottom:0;right:0;left:0;}&lt;/style&gt;\n",
       "    &lt;script src=&quot;https://cdn.jsdelivr.net/npm/leaflet@1.6.0/dist/leaflet.js&quot;&gt;&lt;/script&gt;\n",
       "    &lt;script src=&quot;https://code.jquery.com/jquery-1.12.4.min.js&quot;&gt;&lt;/script&gt;\n",
       "    &lt;script src=&quot;https://maxcdn.bootstrapcdn.com/bootstrap/3.2.0/js/bootstrap.min.js&quot;&gt;&lt;/script&gt;\n",
       "    &lt;script src=&quot;https://cdnjs.cloudflare.com/ajax/libs/Leaflet.awesome-markers/2.0.2/leaflet.awesome-markers.js&quot;&gt;&lt;/script&gt;\n",
       "    &lt;link rel=&quot;stylesheet&quot; href=&quot;https://cdn.jsdelivr.net/npm/leaflet@1.6.0/dist/leaflet.css&quot;/&gt;\n",
       "    &lt;link rel=&quot;stylesheet&quot; href=&quot;https://maxcdn.bootstrapcdn.com/bootstrap/3.2.0/css/bootstrap.min.css&quot;/&gt;\n",
       "    &lt;link rel=&quot;stylesheet&quot; href=&quot;https://maxcdn.bootstrapcdn.com/bootstrap/3.2.0/css/bootstrap-theme.min.css&quot;/&gt;\n",
       "    &lt;link rel=&quot;stylesheet&quot; href=&quot;https://maxcdn.bootstrapcdn.com/font-awesome/4.6.3/css/font-awesome.min.css&quot;/&gt;\n",
       "    &lt;link rel=&quot;stylesheet&quot; href=&quot;https://cdnjs.cloudflare.com/ajax/libs/Leaflet.awesome-markers/2.0.2/leaflet.awesome-markers.css&quot;/&gt;\n",
       "    &lt;link rel=&quot;stylesheet&quot; href=&quot;https://cdn.jsdelivr.net/gh/python-visualization/folium/folium/templates/leaflet.awesome.rotate.min.css&quot;/&gt;\n",
       "    \n",
       "            &lt;meta name=&quot;viewport&quot; content=&quot;width=device-width,\n",
       "                initial-scale=1.0, maximum-scale=1.0, user-scalable=no&quot; /&gt;\n",
       "            &lt;style&gt;\n",
       "                #map_9e1d172db372477a119849ef0b332147 {\n",
       "                    position: relative;\n",
       "                    width: 100.0%;\n",
       "                    height: 100.0%;\n",
       "                    left: 0.0%;\n",
       "                    top: 0.0%;\n",
       "                }\n",
       "            &lt;/style&gt;\n",
       "        \n",
       "    &lt;script src=&quot;https://cdnjs.cloudflare.com/ajax/libs/leaflet.fullscreen/1.4.2/Control.FullScreen.min.js&quot;&gt;&lt;/script&gt;\n",
       "    &lt;link rel=&quot;stylesheet&quot; href=&quot;https://cdnjs.cloudflare.com/ajax/libs/leaflet.fullscreen/1.4.2/Control.FullScreen.min.css&quot;/&gt;\n",
       "    &lt;script src=&quot;https://cdnjs.cloudflare.com/ajax/libs/leaflet.draw/1.0.2/leaflet.draw.js&quot;&gt;&lt;/script&gt;\n",
       "    &lt;link rel=&quot;stylesheet&quot; href=&quot;https://cdnjs.cloudflare.com/ajax/libs/leaflet.draw/1.0.2/leaflet.draw.css&quot;/&gt;\n",
       "    &lt;script src=&quot;https://unpkg.com/leaflet-control-geocoder/dist/Control.Geocoder.js&quot;&gt;&lt;/script&gt;\n",
       "    &lt;link rel=&quot;stylesheet&quot; href=&quot;https://unpkg.com/leaflet-control-geocoder/dist/Control.Geocoder.css&quot;/&gt;\n",
       "&lt;/head&gt;\n",
       "&lt;body&gt;    \n",
       "    \n",
       "            &lt;div class=&quot;folium-map&quot; id=&quot;map_9e1d172db372477a119849ef0b332147&quot; &gt;&lt;/div&gt;\n",
       "        \n",
       "&lt;/body&gt;\n",
       "&lt;script&gt;    \n",
       "    \n",
       "            var map_9e1d172db372477a119849ef0b332147 = L.map(\n",
       "                &quot;map_9e1d172db372477a119849ef0b332147&quot;,\n",
       "                {\n",
       "                    center: [36.0, -120.0],\n",
       "                    crs: L.CRS.EPSG3857,\n",
       "                    zoom: 8,\n",
       "                    zoomControl: true,\n",
       "                    preferCanvas: false,\n",
       "                    eeInitialize: true,\n",
       "                    addGoogleMap: true,\n",
       "                    pluginLatlngpopup: false,\n",
       "                    pluginFullscreen: true,\n",
       "                    pluginDraw: true,\n",
       "                    DrawExport: false,\n",
       "                    pluginMinimap: false,\n",
       "                    pluginLayercontrol: false,\n",
       "                    locateControl: false,\n",
       "                    searchControl: true,\n",
       "                }\n",
       "            );\n",
       "\n",
       "            \n",
       "\n",
       "        \n",
       "    \n",
       "            var tile_layer_0f9633e87ed38af26400336dee054586 = L.tileLayer(\n",
       "                &quot;https://{s}.tile.openstreetmap.org/{z}/{x}/{y}.png&quot;,\n",
       "                {&quot;attribution&quot;: &quot;Data by \\u0026copy; \\u003ca href=\\&quot;http://openstreetmap.org\\&quot;\\u003eOpenStreetMap\\u003c/a\\u003e, under \\u003ca href=\\&quot;http://www.openstreetmap.org/copyright\\&quot;\\u003eODbL\\u003c/a\\u003e.&quot;, &quot;detectRetina&quot;: false, &quot;maxNativeZoom&quot;: 24, &quot;maxZoom&quot;: 24, &quot;minZoom&quot;: 0, &quot;noWrap&quot;: false, &quot;opacity&quot;: 1, &quot;subdomains&quot;: &quot;abc&quot;, &quot;tms&quot;: false}\n",
       "            ).addTo(map_9e1d172db372477a119849ef0b332147);\n",
       "        \n",
       "    \n",
       "            var tile_layer_c98cc36b8b919f03c6ab3961d71ff0e5 = L.tileLayer(\n",
       "                &quot;https://mt1.google.com/vt/lyrs=m\\u0026x={x}\\u0026y={y}\\u0026z={z}&quot;,\n",
       "                {&quot;attribution&quot;: &quot;Google&quot;, &quot;detectRetina&quot;: false, &quot;maxNativeZoom&quot;: 22, &quot;maxZoom&quot;: 22, &quot;minZoom&quot;: 0, &quot;noWrap&quot;: false, &quot;opacity&quot;: 1, &quot;subdomains&quot;: &quot;abc&quot;, &quot;tms&quot;: false}\n",
       "            ).addTo(map_9e1d172db372477a119849ef0b332147);\n",
       "        \n",
       "    \n",
       "            L.control.fullscreen(\n",
       "                {&quot;forceSeparateButton&quot;: false, &quot;position&quot;: &quot;topleft&quot;, &quot;title&quot;: &quot;Full Screen&quot;, &quot;titleCancel&quot;: &quot;Exit Full Screen&quot;}\n",
       "            ).addTo(map_9e1d172db372477a119849ef0b332147);\n",
       "        \n",
       "    \n",
       "            var options = {\n",
       "              position: &quot;topleft&quot;,\n",
       "              draw: {},\n",
       "              edit: {},\n",
       "            }\n",
       "            // FeatureGroup is to store editable layers.\n",
       "            var drawnItems = new L.featureGroup().addTo(\n",
       "                map_9e1d172db372477a119849ef0b332147\n",
       "            );\n",
       "            options.edit.featureGroup = drawnItems;\n",
       "            var draw_control_7e2aba60292f0111c44da2498569721a = new L.Control.Draw(\n",
       "                options\n",
       "            ).addTo( map_9e1d172db372477a119849ef0b332147 );\n",
       "            map_9e1d172db372477a119849ef0b332147.on(L.Draw.Event.CREATED, function(e) {\n",
       "                var layer = e.layer,\n",
       "                    type = e.layerType;\n",
       "                var coords = JSON.stringify(layer.toGeoJSON());\n",
       "                layer.on(&#x27;click&#x27;, function() {\n",
       "                    alert(coords);\n",
       "                    console.log(coords);\n",
       "                });\n",
       "                drawnItems.addLayer(layer);\n",
       "             });\n",
       "            map_9e1d172db372477a119849ef0b332147.on(&#x27;draw:created&#x27;, function(e) {\n",
       "                drawnItems.addLayer(e.layer);\n",
       "            });\n",
       "            \n",
       "        \n",
       "    \n",
       "            L.Control.geocoder(\n",
       "                {&quot;collapsed&quot;: true, &quot;defaultMarkGeocode&quot;: true, &quot;position&quot;: &quot;topleft&quot;}\n",
       "            ).on(&#x27;markgeocode&#x27;, function(e) {\n",
       "                map_9e1d172db372477a119849ef0b332147.setView(e.geocode.center, 11);\n",
       "            }).addTo(map_9e1d172db372477a119849ef0b332147);\n",
       "\n",
       "        \n",
       "    \n",
       "            map_9e1d172db372477a119849ef0b332147.fitBounds(\n",
       "                [[36, -120], [36, -120]],\n",
       "                {&quot;maxZoom&quot;: 8}\n",
       "            );\n",
       "        \n",
       "    \n",
       "            var tile_layer_e1b5461571b125026e98e1acbf990af1 = L.tileLayer(\n",
       "                &quot;https://earthengine.googleapis.com/v1alpha/projects/earthengine-legacy/maps/f001eba680af78903bd6b3660df26a49-1610c2acb38105a0e4be8b3a9e91e245/tiles/{z}/{x}/{y}&quot;,\n",
       "                {&quot;attribution&quot;: &quot;Google Earth Engine&quot;, &quot;detectRetina&quot;: false, &quot;maxNativeZoom&quot;: 24, &quot;maxZoom&quot;: 24, &quot;minZoom&quot;: 0, &quot;noWrap&quot;: false, &quot;opacity&quot;: 1.0, &quot;subdomains&quot;: &quot;abc&quot;, &quot;tms&quot;: false}\n",
       "            ).addTo(map_9e1d172db372477a119849ef0b332147);\n",
       "        \n",
       "    \n",
       "            var layer_control_c359381ccd67a0dc9e63c5edeb1917e8 = {\n",
       "                base_layers : {\n",
       "                    &quot;openstreetmap&quot; : tile_layer_0f9633e87ed38af26400336dee054586,\n",
       "                },\n",
       "                overlays :  {\n",
       "                    &quot;Google Maps&quot; : tile_layer_c98cc36b8b919f03c6ab3961d71ff0e5,\n",
       "                    &quot;CDL&quot; : tile_layer_e1b5461571b125026e98e1acbf990af1,\n",
       "                },\n",
       "            };\n",
       "            L.control.layers(\n",
       "                layer_control_c359381ccd67a0dc9e63c5edeb1917e8.base_layers,\n",
       "                layer_control_c359381ccd67a0dc9e63c5edeb1917e8.overlays,\n",
       "                {&quot;autoZIndex&quot;: true, &quot;collapsed&quot;: true, &quot;position&quot;: &quot;topright&quot;}\n",
       "            ).addTo(map_9e1d172db372477a119849ef0b332147);\n",
       "        \n",
       "&lt;/script&gt;\" style=\"position:absolute;width:100%;height:100%;left:0;top:0;border:none !important;\" allowfullscreen webkitallowfullscreen mozallowfullscreen></iframe></div></div>"
      ],
      "text/plain": [
       "<geemap.foliumap.Map at 0x7fa7a96fbca0>"
      ]
     },
     "execution_count": 7,
     "metadata": {},
     "output_type": "execute_result"
    }
   ],
   "source": [
    "m = geemap.Map(center=(36, -120), zoom=8)\n",
    "m.addLayer(cdl, {}, 'CDL')\n",
    "m.addLayerControl()\n",
    "m"
   ]
  },
  {
   "cell_type": "code",
   "execution_count": 8,
   "metadata": {},
   "outputs": [],
   "source": [
    "def get_ndvi(image):\n",
    "    ndvi = image.normalizedDifference(['SR_B5', 'SR_B4']).rename('NDVI')  #NIR, R\n",
    "    return ndvi"
   ]
  },
  {
   "cell_type": "code",
   "execution_count": 9,
   "metadata": {},
   "outputs": [],
   "source": [
    "def get_lai(start_date, end_date):\n",
    "    lai = ee.ImageCollection('MODIS/061/MCD15A3H').filterDate(start_date, end_date).select('Lai').first().clip(landsat_sep.geometry())\n",
    "    lai = lai.mask(main_crops)\n",
    "    lai = lai.resample('bicubic').reproject(crs=landsat_sep.projection(), scale=30)\n",
    "    return lai"
   ]
  },
  {
   "cell_type": "code",
   "execution_count": 10,
   "metadata": {},
   "outputs": [],
   "source": [
    "def get_final_image(image, bands):\n",
    "    data = image.addBands(bands)\n",
    "    return data"
   ]
  },
  {
   "cell_type": "code",
   "execution_count": 11,
   "metadata": {},
   "outputs": [],
   "source": [
    "def get_training_data(image, start_date, end_date):\n",
    "    lai = get_lai(start_date, end_date)\n",
    "    landsat_image = image.mask(main_crops)\n",
    "    ndvi = get_ndvi(landsat_image)\n",
    "    bands = [ndvi, lai]\n",
    "    data = get_final_image(landsat_image, bands)\n",
    "    return data"
   ]
  },
  {
   "cell_type": "markdown",
   "metadata": {},
   "source": [
    "Final images with surface reflectances and indices"
   ]
  },
  {
   "cell_type": "code",
   "execution_count": 12,
   "metadata": {},
   "outputs": [],
   "source": [
    "data_may = get_training_data(landsat_may, '2019-05-01', '2019-06-01')\n",
    "data_jul = get_training_data(landsat_jul, '2019-07-01', '2019-08-01')\n",
    "data_aug = get_training_data(landsat_aug, '2019-08-01', '2019-09-01')\n",
    "data_sep = get_training_data(landsat_sep, '2019-09-01', '2019-10-01')\n",
    "data_oct = get_training_data(landsat_oct, '2019-10-01', '2019-11-01')"
   ]
  },
  {
   "cell_type": "markdown",
   "metadata": {},
   "source": [
    "70-30 split for training and cross validation"
   ]
  },
  {
   "cell_type": "code",
   "execution_count": 13,
   "metadata": {},
   "outputs": [],
   "source": [
    "points = cdl.stratifiedSample(region=cdl.geometry(), scale=30, numPoints=1500, seed=0, geometries=True)\n",
    "\n",
    "label = 'cropland'\n",
    "bands = data_sep.bandNames().getInfo()\n",
    "\n",
    "\n",
    "def classification(image):\n",
    "    sample = image.select(bands).sampleRegions(collection=points, properties=[label], scale=30)\n",
    "    sample = sample.randomColumn()\n",
    "    split = 0.70\n",
    "\n",
    "    training = sample.filter(ee.Filter.lt('random', split))\n",
    "    validation = sample.filter(ee.Filter.gte('random', split))\n",
    "    \n",
    "    return training, validation\n",
    "\n",
    "t_may, v_may = classification(data_may)\n",
    "t_jul, v_jul = classification(data_jul)\n",
    "t_aug, v_aug = classification(data_aug)\n",
    "t_sep, v_sep = classification(data_sep)\n",
    "t_oct, v_oct = classification(data_oct)\n",
    "\n",
    "training = t_may.merge(t_jul).merge(t_aug).merge(t_sep).merge(t_oct)\n",
    "validation = v_may.merge(v_jul).merge(v_aug).merge(v_sep).merge(v_oct)"
   ]
  },
  {
   "cell_type": "markdown",
   "metadata": {},
   "source": [
    "Training"
   ]
  },
  {
   "cell_type": "code",
   "execution_count": 14,
   "metadata": {},
   "outputs": [
    {
     "data": {
      "text/plain": [
       "0.9988397077782553"
      ]
     },
     "execution_count": 14,
     "metadata": {},
     "output_type": "execute_result"
    }
   ],
   "source": [
    "classifier = ee.Classifier.smileRandomForest(200).train(training, label, bands)\n",
    "\n",
    "train_accuracy = classifier.confusionMatrix()\n",
    "train_accuracy.accuracy().getInfo()"
   ]
  },
  {
   "cell_type": "markdown",
   "metadata": {},
   "source": [
    "Cross-validation"
   ]
  },
  {
   "cell_type": "code",
   "execution_count": 15,
   "metadata": {},
   "outputs": [
    {
     "data": {
      "text/plain": [
       "0.7967016491754123"
      ]
     },
     "execution_count": 15,
     "metadata": {},
     "output_type": "execute_result"
    }
   ],
   "source": [
    "validated = validation.classify(classifier)\n",
    "\n",
    "test_accuracy = validated.errorMatrix('cropland', 'classification')\n",
    "test_accuracy.accuracy().getInfo()"
   ]
  },
  {
   "cell_type": "markdown",
   "metadata": {},
   "source": [
    "Export samples to csv for training using a larger sample size in sklearn"
   ]
  },
  {
   "cell_type": "code",
   "execution_count": 16,
   "metadata": {},
   "outputs": [],
   "source": [
    "points = cdl.stratifiedSample(region=cdl.geometry(), scale=30, numPoints=40000, seed=0, geometries=True)\n",
    "\n",
    "label = 'cropland'\n",
    "bands = data_sep.bandNames().getInfo()\n",
    "\n",
    "\n",
    "def classification(image):\n",
    "    sample = image.select(bands).sampleRegions(collection=points, properties=[label], scale=30)   \n",
    "    return sample\n",
    "\n",
    "t_may = classification(data_may)\n",
    "t_jul = classification(data_jul)\n",
    "t_aug = classification(data_aug)\n",
    "t_sep = classification(data_sep)\n",
    "t_oct = classification(data_oct)\n",
    "\n",
    "training = t_may.merge(t_jul).merge(t_aug).merge(t_sep).merge(t_oct)"
   ]
  },
  {
   "cell_type": "code",
   "execution_count": 17,
   "metadata": {},
   "outputs": [],
   "source": [
    "task = ee.batch.Export.table.toDrive(collection=training,\n",
    "                                     description='training_1M_confident_95',\n",
    "                                     fileFormat='CSV')\n",
    "task.start()"
   ]
  },
  {
   "cell_type": "code",
   "execution_count": 21,
   "metadata": {},
   "outputs": [],
   "source": [
    "task.status()"
   ]
  }
 ],
 "metadata": {
  "kernelspec": {
   "display_name": "Python 3 (ipykernel)",
   "language": "python",
   "name": "python3"
  },
  "language_info": {
   "codemirror_mode": {
    "name": "ipython",
    "version": 3
   },
   "file_extension": ".py",
   "mimetype": "text/x-python",
   "name": "python",
   "nbconvert_exporter": "python",
   "pygments_lexer": "ipython3",
   "version": "3.8.13"
  },
  "vscode": {
   "interpreter": {
    "hash": "7dc39d0379c1587668d3f5a030d6ca30fa25ac45af4e85422bdb1eba73e82141"
   }
  }
 },
 "nbformat": 4,
 "nbformat_minor": 2
}

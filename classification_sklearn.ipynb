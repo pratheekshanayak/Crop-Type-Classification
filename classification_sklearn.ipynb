{
 "cells": [
  {
   "cell_type": "markdown",
   "id": "_nGCtlOhsOhd",
   "metadata": {
    "id": "_nGCtlOhsOhd"
   },
   "source": [
    "Imports"
   ]
  },
  {
   "cell_type": "code",
   "execution_count": 15,
   "id": "52382761",
   "metadata": {
    "executionInfo": {
     "elapsed": 7,
     "status": "ok",
     "timestamp": 1669899345398,
     "user": {
      "displayName": "Pratheeksha Nayak",
      "userId": "05544495970979508148"
     },
     "user_tz": -330
    },
    "id": "52382761"
   },
   "outputs": [],
   "source": [
    "import numpy as np\n",
    "import pandas as pd\n",
    "import matplotlib.pyplot as plt\n",
    "from sklearn import preprocessing, model_selection\n",
    "from sklearn.ensemble import RandomForestClassifier\n",
    "from sklearn.metrics import classification_report, confusion_matrix, ConfusionMatrixDisplay"
   ]
  },
  {
   "cell_type": "markdown",
   "id": "LtW9XRCOsZwP",
   "metadata": {
    "id": "LtW9XRCOsZwP"
   },
   "source": [
    "Load csv file from Google drive"
   ]
  },
  {
   "cell_type": "code",
   "execution_count": 3,
   "id": "c-gVo84UOHZM",
   "metadata": {
    "executionInfo": {
     "elapsed": 47000,
     "status": "ok",
     "timestamp": 1669898569309,
     "user": {
      "displayName": "Pratheeksha Nayak",
      "userId": "05544495970979508148"
     },
     "user_tz": -330
    },
    "id": "c-gVo84UOHZM"
   },
   "outputs": [],
   "source": [
    "from pydrive.auth import GoogleAuth\n",
    "from pydrive.drive import GoogleDrive\n",
    "from google.colab import auth\n",
    "from oauth2client.client import GoogleCredentials\n",
    "\n",
    "# Authenticate and create the PyDrive client.\n",
    "\n",
    "auth.authenticate_user()\n",
    "gauth = GoogleAuth()\n",
    "gauth.credentials = GoogleCredentials.get_application_default()\n",
    "drive = GoogleDrive(gauth)"
   ]
  },
  {
   "cell_type": "code",
   "execution_count": 4,
   "id": "uWuTGSe1ObC_",
   "metadata": {
    "executionInfo": {
     "elapsed": 16120,
     "status": "ok",
     "timestamp": 1669898585412,
     "user": {
      "displayName": "Pratheeksha Nayak",
      "userId": "05544495970979508148"
     },
     "user_tz": -330
    },
    "id": "uWuTGSe1ObC_"
   },
   "outputs": [],
   "source": [
    "# link = 'https://drive.google.com/file/d/1muJgMGFGyfdXmuI2Zgn9wG_0OyCij1lr/view?usp=share_link'  # 35k\n",
    "# link = 'https://drive.google.com/file/d/19p5HaPYQnSo0jwnNrAqghgKt8BS0fwAm/view?usp=share_link'  # 500k\n",
    "# link = 'https://drive.google.com/file/d/1CF72Mm5zUgPugsa6U_N6hjm6sz0rVTAS/view?usp=share_link'  # 1M\n",
    "# link = 'https://drive.google.com/file/d/1QhwQ1NDC3gTPNkO8gQJ4ieTaHrvrTPRk/view?usp=share_link'  # 1M with conf > 0.90\n",
    "link = 'https://drive.google.com/file/d/137jUnisLP1acWR0NLyJXxMeDbq0tCDjk/view?usp=share_link'  # 1M with conf > 0.95\n",
    "\n",
    "# to get the id part of the file\n",
    "id = link.split(\"/\")[-2]\n",
    "\n",
    "downloaded = drive.CreateFile({'id':id})\n",
    "downloaded.GetContentFile('training_data.csv')\n",
    "\n",
    "df_train = pd.read_csv('training_data.csv')"
   ]
  },
  {
   "cell_type": "code",
   "execution_count": 5,
   "id": "oZWEuTySirK1",
   "metadata": {
    "colab": {
     "base_uri": "https://localhost:8080/"
    },
    "executionInfo": {
     "elapsed": 28,
     "status": "ok",
     "timestamp": 1669898585415,
     "user": {
      "displayName": "Pratheeksha Nayak",
      "userId": "05544495970979508148"
     },
     "user_tz": -330
    },
    "id": "oZWEuTySirK1",
    "outputId": "79a24f9e-1fbd-4aa9-aeb3-638634f98e9b"
   },
   "outputs": [
    {
     "name": "stdout",
     "output_type": "stream",
     "text": [
      "886454\n"
     ]
    }
   ],
   "source": [
    "# df.hist(figsize=(30,30), bins=30)\n",
    "\n",
    "df_train = df_train[df_train.SR_B2!=0]\n",
    "print(len(df_train))"
   ]
  },
  {
   "cell_type": "code",
   "execution_count": 6,
   "id": "cad75caa",
   "metadata": {
    "executionInfo": {
     "elapsed": 649,
     "status": "ok",
     "timestamp": 1669898586046,
     "user": {
      "displayName": "Pratheeksha Nayak",
      "userId": "05544495970979508148"
     },
     "user_tz": -330
    },
    "id": "cad75caa"
   },
   "outputs": [],
   "source": [
    "df = df_train[['SR_B1', 'SR_B2', 'SR_B3', 'SR_B4', 'SR_B5', 'SR_B6', 'SR_B7', 'NDVI', 'Lai', 'cropland']]\n",
    "\n",
    "y = np.array(df['cropland'])\n",
    "df = df.drop(['cropland'], axis=1)"
   ]
  },
  {
   "cell_type": "markdown",
   "id": "7n1ReWCIsiYo",
   "metadata": {
    "id": "7n1ReWCIsiYo"
   },
   "source": [
    "Random forest classifier with 70-30 split"
   ]
  },
  {
   "cell_type": "code",
   "execution_count": 7,
   "id": "debd98da",
   "metadata": {
    "colab": {
     "base_uri": "https://localhost:8080/"
    },
    "executionInfo": {
     "elapsed": 603461,
     "status": "ok",
     "timestamp": 1669899189493,
     "user": {
      "displayName": "Pratheeksha Nayak",
      "userId": "05544495970979508148"
     },
     "user_tz": -330
    },
    "id": "debd98da",
    "outputId": "27404196-dadb-41a3-d46f-2b2c2b1b2df2"
   },
   "outputs": [
    {
     "data": {
      "text/plain": [
       "0.8618808213975491"
      ]
     },
     "execution_count": 7,
     "metadata": {},
     "output_type": "execute_result"
    }
   ],
   "source": [
    "X = np.array(df)\n",
    "\n",
    "X_train, X_cv, y_train, y_cv = model_selection.train_test_split(X, y, test_size=0.3)\n",
    "\n",
    "clf = RandomForestClassifier(n_estimators=200, n_jobs=-1)\n",
    "\n",
    "clf.fit(X_train, y_train)\n",
    "\n",
    "y_pred = clf.predict(X_cv)\n",
    "\n",
    "accuracy = clf.score(X_cv, y_cv)\n",
    "\n",
    "accuracy"
   ]
  },
  {
   "cell_type": "markdown",
   "id": "tkctdrZ6vFPu",
   "metadata": {
    "id": "tkctdrZ6vFPu"
   },
   "source": [
    "Confusion matrix"
   ]
  },
  {
   "cell_type": "code",
   "execution_count": 24,
   "id": "XgO5w22MuBX-",
   "metadata": {
    "colab": {
     "base_uri": "https://localhost:8080/",
     "height": 297
    },
    "executionInfo": {
     "elapsed": 775,
     "status": "ok",
     "timestamp": 1669899716092,
     "user": {
      "displayName": "Pratheeksha Nayak",
      "userId": "05544495970979508148"
     },
     "user_tz": -330
    },
    "id": "XgO5w22MuBX-",
    "outputId": "f8108a4a-717a-4f0f-a090-32fc8f97b829"
   },
   "outputs": [
    {
     "data": {
      "text/plain": [
       "<sklearn.metrics._plot.confusion_matrix.ConfusionMatrixDisplay at 0x7f670fb1a7c0>"
      ]
     },
     "execution_count": 24,
     "metadata": {},
     "output_type": "execute_result"
    },
    {
     "data": {
      "image/png": "[encoded data removed]",
      "text/plain": [
       "<Figure size 432x288 with 2 Axes>"
      ]
     },
     "metadata": {
      "needs_background": "light"
     },
     "output_type": "display_data"
    }
   ],
   "source": [
    "cm = confusion_matrix(y_cv, y_pred, labels=clf.classes_)\n",
    "crop_labels = ['Cotton', 'Alfalfa', 'Grapes', 'Almonds', 'Pistachios']\n",
    "disp = ConfusionMatrixDisplay(confusion_matrix=cm, display_labels=crop_labels)\n",
    "disp.plot()"
   ]
  },
  {
   "cell_type": "markdown",
   "id": "R93S8Ajaspeh",
   "metadata": {
    "id": "R93S8Ajaspeh"
   },
   "source": [
    "Class-wise precision and recall"
   ]
  },
  {
   "cell_type": "code",
   "execution_count": 25,
   "id": "byrz77fntwZq",
   "metadata": {
    "colab": {
     "base_uri": "https://localhost:8080/"
    },
    "executionInfo": {
     "elapsed": 1098,
     "status": "ok",
     "timestamp": 1669899724034,
     "user": {
      "displayName": "Pratheeksha Nayak",
      "userId": "05544495970979508148"
     },
     "user_tz": -330
    },
    "id": "byrz77fntwZq",
    "outputId": "515d5987-9a34-4c73-bbec-2a147cd55d28"
   },
   "outputs": [
    {
     "name": "stdout",
     "output_type": "stream",
     "text": [
      "              precision    recall  f1-score   support\n",
      "\n",
      "      Cotton       0.91      0.90      0.90     53553\n",
      "     Alfalfa       0.91      0.88      0.89     47379\n",
      "      Grapes       0.78      0.79      0.78     54608\n",
      "     Almonds       0.85      0.85      0.85     53544\n",
      "  Pistachios       0.87      0.89      0.88     56853\n",
      "\n",
      "    accuracy                           0.86    265937\n",
      "   macro avg       0.86      0.86      0.86    265937\n",
      "weighted avg       0.86      0.86      0.86    265937\n",
      "\n"
     ]
    }
   ],
   "source": [
    "print(classification_report(y_cv, y_pred, target_names=crop_labels))"
   ]
  }
 ],
 "metadata": {
  "colab": {
   "provenance": []
  },
  "kernelspec": {
   "display_name": "Python 3 (ipykernel)",
   "language": "python",
   "name": "python3"
  },
  "language_info": {
   "codemirror_mode": {
    "name": "ipython",
    "version": 3
   },
   "file_extension": ".py",
   "mimetype": "text/x-python",
   "name": "python",
   "nbconvert_exporter": "python",
   "pygments_lexer": "ipython3",
   "version": "3.8.13"
  }
 },
 "nbformat": 4,
 "nbformat_minor": 5
}

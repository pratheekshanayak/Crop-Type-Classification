{
 "cells": [
  {
   "cell_type": "code",
   "execution_count": 1,
   "id": "52382761",
   "metadata": {
    "executionInfo": {
     "elapsed": 3608,
     "status": "ok",
     "timestamp": 1669891520625,
     "user": {
      "displayName": "Pratheeksha Nayak",
      "userId": "05544495970979508148"
     },
     "user_tz": -330
    },
    "id": "52382761"
   },
   "outputs": [],
   "source": [
    "import numpy as np\n",
    "import pandas as pd\n",
    "import matplotlib.pyplot as plt\n",
    "from sklearn import preprocessing, model_selection\n",
    "from sklearn.ensemble import RandomForestClassifier\n",
    "from sklearn.metrics import classification_report"
   ]
  },
  {
   "cell_type": "code",
   "execution_count": 2,
   "id": "c-gVo84UOHZM",
   "metadata": {
    "executionInfo": {
     "elapsed": 32827,
     "status": "ok",
     "timestamp": 1669891553431,
     "user": {
      "displayName": "Pratheeksha Nayak",
      "userId": "05544495970979508148"
     },
     "user_tz": -330
    },
    "id": "c-gVo84UOHZM"
   },
   "outputs": [],
   "source": [
    "from pydrive.auth import GoogleAuth\n",
    "from pydrive.drive import GoogleDrive\n",
    "from google.colab import auth\n",
    "from oauth2client.client import GoogleCredentials\n",
    "\n",
    "# Authenticate and create the PyDrive client.\n",
    "\n",
    "auth.authenticate_user()\n",
    "gauth = GoogleAuth()\n",
    "gauth.credentials = GoogleCredentials.get_application_default()\n",
    "drive = GoogleDrive(gauth)"
   ]
  },
  {
   "cell_type": "code",
   "execution_count": 3,
   "id": "uWuTGSe1ObC_",
   "metadata": {
    "executionInfo": {
     "elapsed": 23192,
     "status": "ok",
     "timestamp": 1669891576618,
     "user": {
      "displayName": "Pratheeksha Nayak",
      "userId": "05544495970979508148"
     },
     "user_tz": -330
    },
    "id": "uWuTGSe1ObC_"
   },
   "outputs": [],
   "source": [
    "# link = 'https://drive.google.com/file/d/1muJgMGFGyfdXmuI2Zgn9wG_0OyCij1lr/view?usp=share_link'  # 35k\n",
    "# link = 'https://drive.google.com/file/d/19p5HaPYQnSo0jwnNrAqghgKt8BS0fwAm/view?usp=share_link'  # 500k\n",
    "# link = 'https://drive.google.com/file/d/1CF72Mm5zUgPugsa6U_N6hjm6sz0rVTAS/view?usp=share_link'  # 1M\n",
    "# link = 'https://drive.google.com/file/d/1QhwQ1NDC3gTPNkO8gQJ4ieTaHrvrTPRk/view?usp=share_link'  # 1M with conf > 0.90\n",
    "link = 'https://drive.google.com/file/d/137jUnisLP1acWR0NLyJXxMeDbq0tCDjk/view?usp=share_link'  # 1M with conf > 0.95\n",
    "\n",
    "# to get the id part of the file\n",
    "id = link.split(\"/\")[-2]\n",
    "\n",
    "downloaded = drive.CreateFile({'id':id})\n",
    "downloaded.GetContentFile('training_data.csv')\n",
    "\n",
    "df_train = pd.read_csv('training_data.csv')"
   ]
  },
  {
   "cell_type": "code",
   "execution_count": 4,
   "id": "oZWEuTySirK1",
   "metadata": {
    "colab": {
     "base_uri": "https://localhost:8080/"
    },
    "executionInfo": {
     "elapsed": 35,
     "status": "ok",
     "timestamp": 1669891576620,
     "user": {
      "displayName": "Pratheeksha Nayak",
      "userId": "05544495970979508148"
     },
     "user_tz": -330
    },
    "id": "oZWEuTySirK1",
    "outputId": "e586dc01-37b3-4282-ee9b-2c763faec0de"
   },
   "outputs": [
    {
     "name": "stdout",
     "output_type": "stream",
     "text": [
      "886454\n"
     ]
    }
   ],
   "source": [
    "# df.hist(figsize=(30,30), bins=30)\n",
    "\n",
    "df_train = df_train[df_train.SR_B2!=0]\n",
    "print(len(df_train))"
   ]
  },
  {
   "cell_type": "code",
   "execution_count": 5,
   "id": "cad75caa",
   "metadata": {
    "executionInfo": {
     "elapsed": 23,
     "status": "ok",
     "timestamp": 1669891576622,
     "user": {
      "displayName": "Pratheeksha Nayak",
      "userId": "05544495970979508148"
     },
     "user_tz": -330
    },
    "id": "cad75caa"
   },
   "outputs": [],
   "source": [
    "df = df_train[['SR_B1', 'SR_B2', 'SR_B3', 'SR_B4', 'SR_B5', 'SR_B6', 'SR_B7', 'NDVI', 'Lai', 'cropland']]\n",
    "\n",
    "y = np.array(df['cropland'])\n",
    "df = df.drop(['cropland'], axis=1)"
   ]
  },
  {
   "cell_type": "code",
   "execution_count": 6,
   "id": "debd98da",
   "metadata": {
    "colab": {
     "base_uri": "https://localhost:8080/"
    },
    "executionInfo": {
     "elapsed": 486244,
     "status": "ok",
     "timestamp": 1669892062850,
     "user": {
      "displayName": "Pratheeksha Nayak",
      "userId": "05544495970979508148"
     },
     "user_tz": -330
    },
    "id": "debd98da",
    "outputId": "358858a8-2e3b-4792-e0e1-9377452df984"
   },
   "outputs": [
    {
     "data": {
      "text/plain": [
       "0.8592674204792864"
      ]
     },
     "execution_count": 6,
     "metadata": {},
     "output_type": "execute_result"
    }
   ],
   "source": [
    "X = np.array(df)\n",
    "\n",
    "X_train, X_cv, y_train, y_cv = model_selection.train_test_split(X, y, test_size=0.3)\n",
    "\n",
    "clf = RandomForestClassifier(n_estimators=200, n_jobs=-1)\n",
    "\n",
    "clf.fit(X_train, y_train)\n",
    "\n",
    "y_pred = clf.predict(X_cv)\n",
    "\n",
    "accuracy = clf.score(X_cv, y_cv)\n",
    "\n",
    "accuracy"
   ]
  },
  {
   "cell_type": "code",
   "execution_count": 7,
   "id": "byrz77fntwZq",
   "metadata": {
    "colab": {
     "base_uri": "https://localhost:8080/"
    },
    "executionInfo": {
     "elapsed": 714,
     "status": "ok",
     "timestamp": 1669892063545,
     "user": {
      "displayName": "Pratheeksha Nayak",
      "userId": "05544495970979508148"
     },
     "user_tz": -330
    },
    "id": "byrz77fntwZq",
    "outputId": "4195bc12-8f65-487d-853d-b89a839e24a1"
   },
   "outputs": [
    {
     "name": "stdout",
     "output_type": "stream",
     "text": [
      "              precision    recall  f1-score   support\n",
      "\n",
      "           2       0.91      0.90      0.90     53456\n",
      "          36       0.91      0.87      0.89     47009\n",
      "          69       0.78      0.79      0.78     54847\n",
      "          75       0.84      0.85      0.85     53397\n",
      "         204       0.87      0.89      0.88     57228\n",
      "\n",
      "    accuracy                           0.86    265937\n",
      "   macro avg       0.86      0.86      0.86    265937\n",
      "weighted avg       0.86      0.86      0.86    265937\n",
      "\n"
     ]
    }
   ],
   "source": [
    "print(classification_report(y_cv, y_pred))"
   ]
  }
 ],
 "metadata": {
  "colab": {
   "provenance": []
  },
  "kernelspec": {
   "display_name": "Python 3 (ipykernel)",
   "language": "python",
   "name": "python3"
  },
  "language_info": {
   "codemirror_mode": {
    "name": "ipython",
    "version": 3
   },
   "file_extension": ".py",
   "mimetype": "text/x-python",
   "name": "python",
   "nbconvert_exporter": "python",
   "pygments_lexer": "ipython3",
   "version": "3.8.13"
  }
 },
 "nbformat": 4,
 "nbformat_minor": 5
}

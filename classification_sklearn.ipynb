{
 "cells": [
  {
   "cell_type": "code",
   "execution_count": 1,
   "id": "52382761",
   "metadata": {
    "id": "52382761"
   },
   "outputs": [],
   "source": [
    "import numpy as np\n",
    "import pandas as pd\n",
    "import matplotlib.pyplot as plt\n",
    "from sklearn import preprocessing, model_selection\n",
    "from sklearn.ensemble import RandomForestClassifier"
   ]
  },
  {
   "cell_type": "code",
   "execution_count": 2,
   "id": "c-gVo84UOHZM",
   "metadata": {
    "id": "c-gVo84UOHZM"
   },
   "outputs": [],
   "source": [
    "from pydrive.auth import GoogleAuth\n",
    "from pydrive.drive import GoogleDrive\n",
    "from google.colab import auth\n",
    "from oauth2client.client import GoogleCredentials\n",
    "\n",
    "# Authenticate and create the PyDrive client.\n",
    "\n",
    "auth.authenticate_user()\n",
    "gauth = GoogleAuth()\n",
    "gauth.credentials = GoogleCredentials.get_application_default()\n",
    "drive = GoogleDrive(gauth)"
   ]
  },
  {
   "cell_type": "code",
   "execution_count": 3,
   "id": "uWuTGSe1ObC_",
   "metadata": {
    "colab": {
     "base_uri": "https://localhost:8080/"
    },
    "id": "uWuTGSe1ObC_",
    "outputId": "18c640e4-e89c-4d22-b241-de51cfd3c837"
   },
   "outputs": [
    {
     "name": "stdout",
     "output_type": "stream",
     "text": [
      "468260\n"
     ]
    }
   ],
   "source": [
    "# link = 'https://drive.google.com/file/d/1muJgMGFGyfdXmuI2Zgn9wG_0OyCij1lr/view?usp=share_link'  # 35k\n",
    "link = 'https://drive.google.com/file/d/19p5HaPYQnSo0jwnNrAqghgKt8BS0fwAm/view?usp=share_link'  # 500k\n",
    "\n",
    "import pandas as pd\n",
    "\n",
    "# to get the id part of the file\n",
    "id = link.split(\"/\")[-2]\n",
    "\n",
    "downloaded = drive.CreateFile({'id':id})\n",
    "downloaded.GetContentFile('training_data.csv')\n",
    "\n",
    "df_train = pd.read_csv('training_data.csv')\n",
    "print(len(df_train))"
   ]
  },
  {
   "cell_type": "code",
   "execution_count": 4,
   "id": "oZWEuTySirK1",
   "metadata": {
    "colab": {
     "base_uri": "https://localhost:8080/"
    },
    "id": "oZWEuTySirK1",
    "outputId": "3ac81025-704a-4377-899b-1886775deea4"
   },
   "outputs": [
    {
     "name": "stdout",
     "output_type": "stream",
     "text": [
      "467967\n"
     ]
    }
   ],
   "source": [
    "# df.hist(figsize=(30,30), bins=30)\n",
    "\n",
    "df_train = df_train[df_train.SR_B2!=0]\n",
    "print(len(df_train))"
   ]
  },
  {
   "cell_type": "code",
   "execution_count": 5,
   "id": "cad75caa",
   "metadata": {
    "colab": {
     "base_uri": "https://localhost:8080/"
    },
    "id": "cad75caa",
    "outputId": "50b502b9-0653-491f-a330-a592b50455ec"
   },
   "outputs": [
    {
     "name": "stdout",
     "output_type": "stream",
     "text": [
      "   SR_B1  SR_B2  SR_B3  SR_B4  SR_B5  SR_B6  SR_B7      NDVI  Lai  cropland\n",
      "0  10345  11059  13048  14317  16218  18591  17221  0.062256    3         2\n",
      "1  10404  10882  11716  12226  14454  18877  18582  0.083508    5         2\n",
      "2  10606  11552  13587  15398  18135  19893  16937  0.081621    2         2\n",
      "3   9360   9996  11697  12496  14263  15241  13901  0.066034    3         2\n",
      "4  10315  11166  13389  14631  16848  18857  17097  0.070428    3         2\n"
     ]
    }
   ],
   "source": [
    "df = df_train[['SR_B1', 'SR_B2', 'SR_B3', 'SR_B4', 'SR_B5', 'SR_B6', 'SR_B7', 'NDVI', 'Lai', 'cropland']]\n",
    "print(df.head())\n",
    "\n",
    "y = np.array(df['cropland'])\n",
    "df = df.drop(['cropland'], axis=1)"
   ]
  },
  {
   "cell_type": "code",
   "execution_count": 7,
   "id": "debd98da",
   "metadata": {
    "colab": {
     "base_uri": "https://localhost:8080/"
    },
    "id": "debd98da",
    "outputId": "695d3738-922c-4cae-8986-25196b33cd4c"
   },
   "outputs": [
    {
     "data": {
      "text/plain": [
       "0.7371840075218496"
      ]
     },
     "execution_count": 7,
     "metadata": {},
     "output_type": "execute_result"
    }
   ],
   "source": [
    "X = np.array(df)\n",
    "\n",
    "X_train, X_cv, y_train, y_cv = model_selection.train_test_split(X, y, test_size=0.3)\n",
    "\n",
    "clf = RandomForestClassifier(n_estimators=200)\n",
    "\n",
    "clf.fit(X_train, y_train)\n",
    "\n",
    "accuracy = clf.score(X_cv, y_cv)\n",
    "\n",
    "accuracy"
   ]
  }
 ],
 "metadata": {
  "colab": {
   "provenance": []
  },
  "kernelspec": {
   "display_name": "Python 3 (ipykernel)",
   "language": "python",
   "name": "python3"
  },
  "language_info": {
   "codemirror_mode": {
    "name": "ipython",
    "version": 3
   },
   "file_extension": ".py",
   "mimetype": "text/x-python",
   "name": "python",
   "nbconvert_exporter": "python",
   "pygments_lexer": "ipython3",
   "version": "3.8.13"
  }
 },
 "nbformat": 4,
 "nbformat_minor": 5
}
